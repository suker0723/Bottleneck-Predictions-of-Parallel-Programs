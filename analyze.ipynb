{
 "cells": [
  {
   "cell_type": "code",
   "execution_count": 21,
   "metadata": {},
   "outputs": [],
   "source": [
    "import json\n",
    "import numpy as np\n",
    "import pandas as pd\n",
    "import regex\n",
    "import os"
   ]
  },
  {
   "cell_type": "code",
   "execution_count": 22,
   "metadata": {},
   "outputs": [],
   "source": [
    "def get_tracing(path):\n",
    "    with open(path, 'r') as f:\n",
    "        json_data = json.load(f)\n",
    "    columns=[\"Thread\",\"Time\",\"Event\"]\n",
    "    result_df=pd.DataFrame(columns=columns)\n",
    "    def _get_df_row(term):\n",
    "        df_row={}\n",
    "        if term[\"name\"] == \"Initialize\" and term[\"pid\"] == \"All\":\n",
    "            df_row[\"Thread\"]= term[\"pid\"]\n",
    "            df_row[\"Time\"]= term[\"ts\"]\n",
    "            df_row[\"Event\"]= \"Start\"\n",
    "        elif term[\"name\"] == \"Finalize\" and term[\"pid\"] == \"All\":\n",
    "            df_row[\"Thread\"]= term[\"pid\"]\n",
    "            df_row[\"Time\"]= term[\"ts\"]\n",
    "            df_row[\"Event\"]= \"End\"\n",
    "        elif term[\"tid\"] == \"Parallel Region\" and term[\"pid\"] == \"All\":\n",
    "            df_row[\"Thread\"]= term[\"pid\"]\n",
    "            df_row[\"Time\"]= term[\"ts\"]\n",
    "            df_row[\"Event\"]= term[\"tid\"]\n",
    "        else:\n",
    "            thread_id = int(term[\"pid\"].split(\" \")[1])\n",
    "            df_row[\"Thread\"]= thread_id\n",
    "            df_row[\"Time\"]= term[\"ts\"]\n",
    "            df_row[\"Event\"]= term[\"tid\"]\n",
    "        return df_row\n",
    "    for term,i in zip(json_data,range(len(json_data))):\n",
    "        result_df.loc[i]=_get_df_row(term)\n",
    "    return result_df"
   ]
  },
  {
   "cell_type": "code",
   "execution_count": 29,
   "metadata": {},
   "outputs": [],
   "source": []
  },
  {
   "cell_type": "code",
   "execution_count": 24,
   "metadata": {},
   "outputs": [],
   "source": [
    "# The loggest parallel thread time / sequential thread time\n",
    "def thread_ratio(df):\n",
    "    df=df[(df[\"Event\"]==\"Thread Region\")]\n",
    "    df = df.sort_values(by=[\"Thread\",\"Time\"])\n",
    "    df = df.reset_index(drop=True)\n",
    "    num_threads=np.sort(np.int64(df[\"Thread\"].unique()))\n",
    "    def _thread_time(df,i):\n",
    "        tmp_df=df[df[\"Thread\"]==i]\n",
    "        tmp_df.reset_index(drop=True)\n",
    "        tmp_time=0\n",
    "        assert len(tmp_df)%2==0\n",
    "        for j in range(0,len(tmp_df),2):\n",
    "            tmp_time+=tmp_df.iloc[j+1][\"Time\"]-tmp_df.iloc[j][\"Time\"]\n",
    "        return tmp_time\n",
    "    seq_time=_thread_time(df,0)\n",
    "    worker_time=[]\n",
    "    for i in num_threads[1:]:\n",
    "        worker_time.append(_thread_time(df,i))\n",
    "    return max(worker_time)/seq_time"
   ]
  },
  {
   "cell_type": "code",
   "execution_count": 25,
   "metadata": {},
   "outputs": [],
   "source": [
    "def overhead_ratio(df):\n",
    "    df=result\n",
    "    df_par=df[df[\"Event\"]==\"Parallel Region\"]\n",
    "    df_par=df_par.sort_values(by=[\"Thread\",\"Time\"])\n",
    "    df_par=df_par.reset_index(drop=True)\n",
    "\n",
    "    df_work=df[df[\"Event\"]==\"Work Region\"]\n",
    "    df_work=df_work.sort_values(by=[\"Thread\",\"Time\"])\n",
    "    df_work=df_work.reset_index(drop=True)    \n",
    "\n",
    "    df_total=df[(df[\"Event\"]==\"Thread Region\")]\n",
    "    num_threads=np.sort(np.int64(df_total[\"Thread\"].unique()))\n",
    "    def _diff(i):\n",
    "        tmp=0\n",
    "        tmp_df=df_work[df_work[\"Thread\"]==i]\n",
    "        for j in range(0,len(df_par),2):\n",
    "            tmp+=tmp_df.iloc[j][\"Time\"]-df_par.iloc[j][\"Time\"]\n",
    "        return tmp\n",
    "    par_time=0\n",
    "    for j in range(0,len(df_par.index),2):\n",
    "        par_time+=df_par.iloc[j+1][\"Time\"]-df_par.iloc[j][\"Time\"]\n",
    "    overhead_time=[]\n",
    "    for i in num_threads:\n",
    "        overhead_time.append(_diff(i))\n",
    "    return max(overhead_time)/par_time\n",
    "    "
   ]
  },
  {
   "cell_type": "code",
   "execution_count": 26,
   "metadata": {},
   "outputs": [],
   "source": [
    "def sync_ratio(df):\n",
    "    df_par=df[df[\"Event\"]==\"Parallel Region\"]\n",
    "    df_par=df_par.sort_values(by=[\"Thread\",\"Time\"])\n",
    "    df_par=df_par.reset_index(drop=True)\n",
    "    \n",
    "    df_work=df[df[\"Event\"]==\"Work Region\"]\n",
    "    df_work=df_work.sort_values(by=[\"Thread\",\"Time\"])\n",
    "    df_work=df_work.reset_index(drop=True)    \n",
    "\n",
    "    df_total=df[(df[\"Event\"]==\"Thread Region\")]\n",
    "    num_threads=np.sort(np.int64(df_total[\"Thread\"].unique()))\n",
    "    def _diff(i):\n",
    "        tmp=0\n",
    "        tmp_df=df_work[df_work[\"Thread\"]==i]\n",
    "        for j in range(1,len(df_par.index),2):\n",
    "            tmp+=df_par.iloc[j][\"Time\"]-tmp_df.iloc[j][\"Time\"]\n",
    "        return tmp\n",
    "    par_time=0\n",
    "    for j in range(0,len(df_par.index),2):\n",
    "        par_time+=df_par.iloc[j+1][\"Time\"]-df_par.iloc[j][\"Time\"]\n",
    "    sync_time=[]\n",
    "    for i in num_threads:\n",
    "        sync_time.append(_diff(i))\n",
    "    return max(sync_time)/par_time"
   ]
  },
  {
   "cell_type": "code",
   "execution_count": 27,
   "metadata": {},
   "outputs": [],
   "source": [
    "def parallel_region_ratio(df):\n",
    "    run_time=df[df[\"Event\"]==\"End\"][\"Time\"].values[0]-df[df[\"Event\"]==\"Start\"][\"Time\"].values[0]\n",
    "    tmp_df=df[(df[\"Thread\"]==\"All\") & (df[\"Event\"]==\"Parallel Region\")]\n",
    "    tmp_df=tmp_df.sort_values(by=[\"Time\"])\n",
    "    assert(tmp_df.shape[0]%2==0)\n",
    "    parallel_time=0\n",
    "    for i in range(0,tmp_df.shape[0],2):\n",
    "        start_time=tmp_df.iloc[i][\"Time\"]\n",
    "        end_time=tmp_df.iloc[i+1][\"Time\"]\n",
    "        parallel_time+=end_time-start_time\n",
    "    return parallel_time/run_time"
   ]
  },
  {
   "cell_type": "code",
   "execution_count": 31,
   "metadata": {},
   "outputs": [],
   "source": [
    "result_balance=get_tracing(\"./test_balance/omptracing_24.json\")\n",
    "result_dynamic=get_tracing(\"./test_balance_dynamic/omptracing_43.json\")\n",
    "result_imbalance=get_tracing(\"./test_imbalance/omptracing_63.json\")"
   ]
  },
  {
   "cell_type": "code",
   "execution_count": 32,
   "metadata": {},
   "outputs": [],
   "source": [
    "# parallel_region_ratio: parallel region time / total time, for scaling check\n",
    "# overhead_ratio: overhead/parallel region time, for sync check\n",
    "# sync_ratio: symc/parallel region, for sync check\n",
    "# sync_ratio+overhead_ratio, for work region check\n",
    "# Order: balance, dynamic, imbalance\n",
    "\n",
    "parallel_data=[parallel_region_ratio(result_balance),parallel_region_ratio(result_dynamic),parallel_region_ratio(result_imbalance)]\n",
    "overhead_data=[overhead_ratio(result_balance),overhead_ratio(result_dynamic),overhead_ratio(result_imbalance)]\n",
    "sync_data=[sync_ratio(result_balance),sync_ratio(result_dynamic),sync_ratio(result_imbalance)]"
   ]
  },
  {
   "cell_type": "code",
   "execution_count": null,
   "metadata": {},
   "outputs": [],
   "source": [
    "#parallel_region_ratio = [0.5595858576527958, 0.987454394371793, 0.3173771815071966]\n",
    "#overhead_ratio =[7.934512458200731e-05, 7.934512458200731e-05, 7.934512458200731e-05]\n",
    "#sync_ratio =[0.15670215870589418, 3.0044310647713796e-05, 0.10504855823462356]"
   ]
  },
  {
   "cell_type": "code",
   "execution_count": 30,
   "metadata": {},
   "outputs": [
    {
     "name": "stdout",
     "output_type": "stream",
     "text": [
      "0.9875702203875961\n",
      "7.934512458200731e-05\n",
      "3.0044310647713796e-05\n",
      "0.987454394371793\n"
     ]
    }
   ],
   "source": [
    "def print_res(df):\n",
    "    print(thread_ratio(df))\n",
    "    print(overhead_ratio(df))\n",
    "    print(sync_ratio(df))\n",
    "    print(parallel_region_ratio(df))\n",
    "print_res()"
   ]
  },
  {
   "cell_type": "code",
   "execution_count": 22,
   "metadata": {},
   "outputs": [],
   "source": [
    "def get_valgrind(path):\n",
    "    # path=\"/home/yiwei/Bottleneck-Predictions-of-Parallel-Programs/valgrind_sample.txt\"\n",
    "    logfile=open(path,\"r\")\n",
    "    line_list=logfile.readlines()\n",
    "    line_len=len(line_list)\n",
    "    columns=[\"Ir\",\"I1mr\",\"ILmr\",\"Dr\",\"D1mr\",\"DLmr\",\"Dw\",\"D1mw\",\"DLmw\",\"Function\"]\n",
    "    df_counts=pd.DataFrame(columns=columns,dtype='object')\n",
    "    df_ratios=pd.DataFrame(columns=columns,dtype='object')\n",
    "    # The stats of all data\n",
    "    head_index=0\n",
    "    for line_index in range(line_len):\n",
    "        m=regex.match(r\"Ir                 I1mr           ILmr           Dr               D1mr           DLmr           Dw               D1mw           DLmw\",line_list[line_index])\n",
    "        if m!=None:\n",
    "            head_index=line_index\n",
    "            break\n",
    "    assert head_index!=0\n",
    "    \n",
    "    def _read_valgrind_line(line):\n",
    "        tmp_list=regex.split(r\"\\(|\\)| \",line)\n",
    "        tmp_list = list(filter(None, tmp_list))\n",
    "        if len(tmp_list)<10:\n",
    "            return None,None,None\n",
    "        counts=[]\n",
    "        ratios=[]\n",
    "        k=0\n",
    "        for i in range(9):\n",
    "            counts.append(int(tmp_list[k].replace(\",\",\"\")))\n",
    "            k=k+1\n",
    "            tmp_ratio=tmp_list[k]\n",
    "            if tmp_ratio[-1]==\"%\":\n",
    "                ratios.append(float(tmp_ratio[:-1])/100)\n",
    "                k=k+1\n",
    "            else:\n",
    "                ratios.append(0.0)\n",
    "        if len(counts)==0:\n",
    "            return None,None,None\n",
    "        func=tmp_list[-1].replace(\"\\n\",\"\")\n",
    "        if len(func)>0 and func[0]==\".\":\n",
    "            func=None\n",
    "        return counts,ratios,func\n",
    "    \n",
    "    counts,ratios,func=_read_valgrind_line(line_list[head_index+2])\n",
    "    df_counts.loc[0]=pd.Series(counts,index=columns[:-1],dtype='object')\n",
    "    df_counts.loc[0][\"Function\"]=func\n",
    "    df_ratios.loc[0]=pd.Series(ratios,index=columns[:-1],dtype='object')\n",
    "    df_ratios.loc[0][\"Function\"]=func\n",
    "\n",
    "    # The stats of functions\n",
    "    begin_index=head_index+2\n",
    "    for line_index in range(head_index+2,line_len):\n",
    "        m=regex.match(r\"Ir                 I1mr         ILmr         Dr               D1mr         DLmr         Dw              D1mw           DLmw          file:function\",line_list[line_index])\n",
    "        if m!=None:\n",
    "            begin_index=line_index\n",
    "            break\n",
    "    assert begin_index!=0\n",
    "\n",
    "\n",
    "    for line_index in range(begin_index+3,line_len):\n",
    "    # for line_index in [23]:\n",
    "        counts,ratios,func=_read_valgrind_line(line_list[line_index])\n",
    "        if counts==None:\n",
    "            end_index=line_index\n",
    "            break\n",
    "        else:\n",
    "            k=len(df_counts)\n",
    "            df_counts.loc[k]=pd.Series(counts,index=columns[:-1],dtype='object')\n",
    "            df_counts.loc[k][\"Function\"]=func\n",
    "            df_ratios.loc[k]=pd.Series(ratios,index=columns[:-1],dtype='object')\n",
    "            df_ratios.loc[k][\"Function\"]=func\n",
    "    return df_counts,df_ratios\n"
   ]
  },
  {
   "cell_type": "code",
   "execution_count": 7,
   "metadata": {},
   "outputs": [],
   "source": [
    "test_case = \"./test_imbalance/\""
   ]
  },
  {
   "cell_type": "code",
   "execution_count": 8,
   "metadata": {},
   "outputs": [],
   "source": [
    "def get_ratio_sync_paral(test_case):\n",
    "    \"\"\" input test_case: the path of the test case\"\"\"\n",
    "    jsonfiles = [file for file in os.listdir(test_case) if file.endswith(\".json\")]\n",
    "    ratios = []\n",
    "    for jsonfile in jsonfiles:\n",
    "        print(jsonfile)\n",
    "        result = get_tracing(os.path.join(test_case, jsonfile))\n",
    "        parallel_ratio = parallel_region_ratio(result)\n",
    "        s_ratio = sync_ratio(result)\n",
    "        print(\"parllel region ratio:\", parallel_ratio)\n",
    "        print(\"sync region ratio   :\", s_ratio)\n",
    "        print(\"thread ratio        :\", thread_ratio(result))\n",
    "        print(\"sync / parallel:\", s_ratio/parallel_ratio)\n",
    "        ratios.append(s_ratio/parallel_ratio)\n",
    "    print(ratios)\n",
    "    avg_ratio = np.array(ratios).mean()\n",
    "    return avg_ratio"
   ]
  },
  {
   "cell_type": "code",
   "execution_count": 9,
   "metadata": {},
   "outputs": [
    {
     "name": "stdout",
     "output_type": "stream",
     "text": [
      "[]\n"
     ]
    },
    {
     "name": "stderr",
     "output_type": "stream",
     "text": [
      "/tmp/ipykernel_11079/474318403.py:16: RuntimeWarning: Mean of empty slice.\n",
      "  avg_ratio = np.array(ratios).mean()\n",
      "/home/yiwei/anaconda3/lib/python3.10/site-packages/numpy/core/_methods.py:190: RuntimeWarning: invalid value encountered in double_scalars\n",
      "  ret = ret.dtype.type(ret / rcount)\n"
     ]
    },
    {
     "data": {
      "text/plain": [
       "nan"
      ]
     },
     "execution_count": 9,
     "metadata": {},
     "output_type": "execute_result"
    }
   ],
   "source": [
    "get_ratio_sync_paral(test_case=\"./test_imbalance/\")"
   ]
  },
  {
   "cell_type": "code",
   "execution_count": 10,
   "metadata": {},
   "outputs": [
    {
     "name": "stdout",
     "output_type": "stream",
     "text": [
      "[]\n"
     ]
    },
    {
     "name": "stderr",
     "output_type": "stream",
     "text": [
      "/tmp/ipykernel_11079/474318403.py:16: RuntimeWarning: Mean of empty slice.\n",
      "  avg_ratio = np.array(ratios).mean()\n"
     ]
    },
    {
     "data": {
      "text/plain": [
       "nan"
      ]
     },
     "execution_count": 10,
     "metadata": {},
     "output_type": "execute_result"
    }
   ],
   "source": [
    "get_ratio_sync_paral(test_case=\"./test_balance/\")"
   ]
  },
  {
   "cell_type": "code",
   "execution_count": 11,
   "metadata": {},
   "outputs": [
    {
     "name": "stdout",
     "output_type": "stream",
     "text": [
      "omptracing_30.json\n"
     ]
    },
    {
     "ename": "ValueError",
     "evalue": "max() arg is an empty sequence",
     "output_type": "error",
     "traceback": [
      "\u001b[0;31m---------------------------------------------------------------------------\u001b[0m",
      "\u001b[0;31mValueError\u001b[0m                                Traceback (most recent call last)",
      "Cell \u001b[0;32mIn[11], line 1\u001b[0m\n\u001b[0;32m----> 1\u001b[0m get_ratio_sync_paral(test_case\u001b[39m=\u001b[39;49m\u001b[39m\"\u001b[39;49m\u001b[39m./test_imbalance_nowait/\u001b[39;49m\u001b[39m\"\u001b[39;49m)\n",
      "Cell \u001b[0;32mIn[8], line 9\u001b[0m, in \u001b[0;36mget_ratio_sync_paral\u001b[0;34m(test_case)\u001b[0m\n\u001b[1;32m      7\u001b[0m result \u001b[39m=\u001b[39m get_tracing(os\u001b[39m.\u001b[39mpath\u001b[39m.\u001b[39mjoin(test_case, jsonfile))\n\u001b[1;32m      8\u001b[0m parallel_ratio \u001b[39m=\u001b[39m parallel_region_ratio(result)\n\u001b[0;32m----> 9\u001b[0m s_ratio \u001b[39m=\u001b[39m sync_ratio(result)\n\u001b[1;32m     10\u001b[0m \u001b[39mprint\u001b[39m(\u001b[39m\"\u001b[39m\u001b[39mparllel region ratio:\u001b[39m\u001b[39m\"\u001b[39m, parallel_ratio)\n\u001b[1;32m     11\u001b[0m \u001b[39mprint\u001b[39m(\u001b[39m\"\u001b[39m\u001b[39msync region ratio   :\u001b[39m\u001b[39m\"\u001b[39m, s_ratio)\n",
      "Cell \u001b[0;32mIn[4], line 18\u001b[0m, in \u001b[0;36msync_ratio\u001b[0;34m(df)\u001b[0m\n\u001b[1;32m     16\u001b[0m \u001b[39mfor\u001b[39;00m i \u001b[39min\u001b[39;00m num_threads:\n\u001b[1;32m     17\u001b[0m     sync_time\u001b[39m.\u001b[39mappend(_thread_time(df,i))\n\u001b[0;32m---> 18\u001b[0m \u001b[39mreturn\u001b[39;00m \u001b[39mmax\u001b[39;49m(sync_time)\u001b[39m/\u001b[39mrun_time\n",
      "\u001b[0;31mValueError\u001b[0m: max() arg is an empty sequence"
     ]
    }
   ],
   "source": [
    "get_ratio_sync_paral(test_case=\"./test_imbalance_nowait/\")"
   ]
  },
  {
   "cell_type": "code",
   "execution_count": null,
   "metadata": {},
   "outputs": [
    {
     "ename": "",
     "evalue": "",
     "output_type": "error",
     "traceback": [
      "\u001b[1;31m运行具有“/bin/python3”的单元格需要ipykernel包。\n",
      "\u001b[1;31mRun the following command to install 'ipykernel' into the Python environment. \n",
      "\u001b[1;31mCommand: '/bin/python3 -m pip install ipykernel -U --user --force-reinstall'"
     ]
    }
   ],
   "source": [
    "get_ratio_sync_paral(test_case=\"./test_balance_dynamic/\") # for showcase thread overhead bottleneck"
   ]
  },
  {
   "cell_type": "code",
   "execution_count": null,
   "metadata": {},
   "outputs": [
    {
     "ename": "",
     "evalue": "",
     "output_type": "error",
     "traceback": [
      "\u001b[1;31m运行具有“/bin/python3”的单元格需要ipykernel包。\n",
      "\u001b[1;31mRun the following command to install 'ipykernel' into the Python environment. \n",
      "\u001b[1;31mCommand: '/bin/python3 -m pip install ipykernel -U --user --force-reinstall'"
     ]
    }
   ],
   "source": [
    "get_ratio_sync_paral(test_case=\"./test_synchronization/\") # omp scan"
   ]
  },
  {
   "cell_type": "code",
   "execution_count": null,
   "metadata": {},
   "outputs": [
    {
     "ename": "",
     "evalue": "",
     "output_type": "error",
     "traceback": [
      "\u001b[1;31m运行具有“/bin/python3”的单元格需要ipykernel包。\n",
      "\u001b[1;31mRun the following command to install 'ipykernel' into the Python environment. \n",
      "\u001b[1;31mCommand: '/bin/python3 -m pip install ipykernel -U --user --force-reinstall'"
     ]
    }
   ],
   "source": [
    "df_counts,df_ratios=get_valgrind(\"./valgrind_sample.txt\")"
   ]
  }
 ],
 "metadata": {
  "kernelspec": {
   "display_name": "base",
   "language": "python",
   "name": "python3"
  },
  "language_info": {
   "codemirror_mode": {
    "name": "ipython",
    "version": 3
   },
   "file_extension": ".py",
   "mimetype": "text/x-python",
   "name": "python",
   "nbconvert_exporter": "python",
   "pygments_lexer": "ipython3",
   "version": "3.10.9"
  },
  "orig_nbformat": 4
 },
 "nbformat": 4,
 "nbformat_minor": 2
}
