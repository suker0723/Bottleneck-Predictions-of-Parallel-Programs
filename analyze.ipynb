{
 "cells": [
  {
   "cell_type": "code",
   "execution_count": 9,
   "metadata": {},
   "outputs": [],
   "source": [
    "import json\n",
    "import numpy as np\n",
    "import pandas as pd\n",
    "import regex"
   ]
  },
  {
   "cell_type": "code",
   "execution_count": 10,
   "metadata": {},
   "outputs": [],
   "source": [
    "def get_tracing(path):\n",
    "    with open(path, 'r') as f:\n",
    "        json_data = json.load(f)\n",
    "    columns=[\"Thread\",\"Time\",\"Event\"]\n",
    "    result_df=pd.DataFrame(columns=columns)\n",
    "    def _get_df_row(term):\n",
    "        df_row={}\n",
    "        if term[\"name\"] == \"Initialize\" and term[\"pid\"] == \"All\":\n",
    "            df_row[\"Thread\"]= term[\"pid\"]\n",
    "            df_row[\"Time\"]= term[\"ts\"]\n",
    "            df_row[\"Event\"]= \"Start\"\n",
    "        elif term[\"name\"] == \"Finalize\" and term[\"pid\"] == \"All\":\n",
    "            df_row[\"Thread\"]= term[\"pid\"]\n",
    "            df_row[\"Time\"]= term[\"ts\"]\n",
    "            df_row[\"Event\"]= \"End\"\n",
    "        elif term[\"tid\"] == \"Parallel Region\" and term[\"pid\"] == \"All\":\n",
    "            df_row[\"Thread\"]= term[\"pid\"]\n",
    "            df_row[\"Time\"]= term[\"ts\"]\n",
    "            df_row[\"Event\"]= term[\"tid\"]\n",
    "        else:\n",
    "            thread_id = int(term[\"pid\"].split(\" \")[1])\n",
    "            df_row[\"Thread\"]= thread_id\n",
    "            df_row[\"Time\"]= term[\"ts\"]\n",
    "            df_row[\"Event\"]= term[\"tid\"]\n",
    "        return df_row\n",
    "    for term,i in zip(json_data,range(len(json_data))):\n",
    "        result_df.loc[i]=_get_df_row(term)\n",
    "    return result_df"
   ]
  },
  {
   "cell_type": "code",
   "execution_count": 11,
   "metadata": {},
   "outputs": [],
   "source": [
    "def thread_ratio(df):\n",
    "    df=df[df[\"Event\"]==\"Thread Region\"]\n",
    "    df = df.sort_values(by=[\"Thread\",\"Time\"])\n",
    "    df = df.reset_index(drop=True)\n",
    "    num_threads=np.sort(np.int64(df[\"Thread\"].unique()))\n",
    "    def _thread_time(df,i):\n",
    "        tmp_df=df[df[\"Thread\"]==i]\n",
    "        tmp_df.reset_index(drop=True)\n",
    "        tmp_time=0\n",
    "        assert len(tmp_df)%2==0\n",
    "        for j in range(0,len(tmp_df),2):\n",
    "            tmp_time+=tmp_df.iloc[j+1][\"Time\"]-tmp_df.iloc[j][\"Time\"]\n",
    "        return tmp_time\n",
    "    seq_time=_thread_time(df,0)\n",
    "    worker_time=[]\n",
    "    for i in num_threads[1:]:\n",
    "        worker_time.append(_thread_time(df,i))\n",
    "    return max(worker_time)/seq_time"
   ]
  },
  {
   "cell_type": "code",
   "execution_count": 12,
   "metadata": {},
   "outputs": [],
   "source": [
    "def sync_ratio(df):\n",
    "    run_time=df[df[\"Event\"]==\"End\"][\"Time\"].values[0]-df[df[\"Event\"]==\"Start\"][\"Time\"].values[0]\n",
    "    df=df[df[\"Event\"]==\"Sync Region\"]\n",
    "    df = df.sort_values(by=[\"Thread\",\"Time\"])\n",
    "    df = df.reset_index(drop=True)\n",
    "    num_threads=np.sort(np.int64(df[\"Thread\"].unique()))\n",
    "    def _thread_time(df,i):\n",
    "        tmp_df=df[df[\"Thread\"]==i]\n",
    "        tmp_df.reset_index(drop=True)\n",
    "        tmp_time=0\n",
    "        assert len(tmp_df)%2==0\n",
    "        for j in range(0,len(tmp_df),2):\n",
    "            tmp_time+=tmp_df.iloc[j+1][\"Time\"]-tmp_df.iloc[j][\"Time\"]\n",
    "        return tmp_time\n",
    "    sync_time=[]\n",
    "    for i in num_threads:\n",
    "        sync_time.append(_thread_time(df,i))\n",
    "    return max(sync_time)/run_time"
   ]
  },
  {
   "cell_type": "code",
   "execution_count": 13,
   "metadata": {},
   "outputs": [],
   "source": [
    "def parallel_region_ratio(df):\n",
    "    run_time=df[df[\"Event\"]==\"End\"][\"Time\"].values[0]-df[df[\"Event\"]==\"Start\"][\"Time\"].values[0]\n",
    "    tmp_df=df[(df[\"Thread\"]==\"All\") & (df[\"Event\"]==\"Parallel Region\")]\n",
    "    tmp_df=tmp_df.sort_values(by=[\"Time\"])\n",
    "    assert(tmp_df.shape[0]%2==0)\n",
    "    parallel_time=0\n",
    "    for i in range(0,tmp_df.shape[0],2):\n",
    "        start_time=tmp_df.iloc[i][\"Time\"]\n",
    "        end_time=tmp_df.iloc[i+1][\"Time\"]\n",
    "        parallel_time+=end_time-start_time\n",
    "    return parallel_time/run_time"
   ]
  },
  {
   "cell_type": "code",
   "execution_count": 14,
   "metadata": {},
   "outputs": [],
   "source": [
    "def get_valgrind(path):\n",
    "    # path=\"/home/yiwei/Bottleneck-Predictions-of-Parallel-Programs/valgrind_sample.txt\"\n",
    "    logfile=open(path,\"r\")\n",
    "    line_list=logfile.readlines()\n",
    "    line_len=len(line_list)\n",
    "    columns=[\"Ir\",\"I1mr\",\"ILmr\",\"Dr\",\"D1mr\",\"DLmr\",\"Dw\",\"D1mw\",\"DLmw\",\"Function\"]\n",
    "    df_counts=pd.DataFrame(columns=columns,dtype='object')\n",
    "    df_ratios=pd.DataFrame(columns=columns,dtype='object')\n",
    "    # The stats of all data\n",
    "    head_index=0\n",
    "    for line_index in range(line_len):\n",
    "        m=regex.match(r\"Ir                 I1mr           ILmr           Dr               D1mr           DLmr           Dw               D1mw           DLmw\",line_list[line_index])\n",
    "        if m!=None:\n",
    "            head_index=line_index\n",
    "            break\n",
    "    assert head_index!=0\n",
    "    \n",
    "    def _read_valgrind_line(line):\n",
    "        tmp_list=regex.split(r\"\\(|\\)| \",line)\n",
    "        tmp_list = list(filter(None, tmp_list))\n",
    "        if len(tmp_list)<10:\n",
    "            return None,None,None\n",
    "        counts=[]\n",
    "        ratios=[]\n",
    "        k=0\n",
    "        for i in range(9):\n",
    "            counts.append(int(tmp_list[k].replace(\",\",\"\")))\n",
    "            k=k+1\n",
    "            tmp_ratio=tmp_list[k]\n",
    "            if tmp_ratio[-1]==\"%\":\n",
    "                ratios.append(float(tmp_ratio[:-1])/100)\n",
    "                k=k+1\n",
    "            else:\n",
    "                ratios.append(0.0)\n",
    "        if len(counts)==0:\n",
    "            return None,None,None\n",
    "        func=tmp_list[-1].replace(\"\\n\",\"\")\n",
    "        if len(func)>0 and func[0]==\".\":\n",
    "            func=None\n",
    "        return counts,ratios,func\n",
    "    \n",
    "    counts,ratios,func=_read_valgrind_line(line_list[head_index+2])\n",
    "    df_counts.loc[0]=pd.Series(counts,index=columns[:-1],dtype='object')\n",
    "    df_counts.loc[0][\"Function\"]=func\n",
    "    df_ratios.loc[0]=pd.Series(ratios,index=columns[:-1],dtype='object')\n",
    "    df_ratios.loc[0][\"Function\"]=func\n",
    "\n",
    "    # The stats of functions\n",
    "    begin_index=head_index+2\n",
    "    for line_index in range(head_index+2,line_len):\n",
    "        m=regex.match(r\"Ir                 I1mr         ILmr         Dr               D1mr         DLmr         Dw              D1mw           DLmw          file:function\",line_list[line_index])\n",
    "        if m!=None:\n",
    "            begin_index=line_index\n",
    "            break\n",
    "    assert begin_index!=0\n",
    "\n",
    "\n",
    "    for line_index in range(begin_index+3,line_len):\n",
    "    # for line_index in [23]:\n",
    "        counts,ratios,func=_read_valgrind_line(line_list[line_index])\n",
    "        if counts==None:\n",
    "            end_index=line_index\n",
    "            break\n",
    "        else:\n",
    "            k=len(df_counts)\n",
    "            df_counts.loc[k]=pd.Series(counts,index=columns[:-1],dtype='object')\n",
    "            df_counts.loc[k][\"Function\"]=func\n",
    "            df_ratios.loc[k]=pd.Series(ratios,index=columns[:-1],dtype='object')\n",
    "            df_ratios.loc[k][\"Function\"]=func\n",
    "    return df_counts,df_ratios\n"
   ]
  },
  {
   "cell_type": "code",
   "execution_count": 15,
   "metadata": {},
   "outputs": [
    {
     "name": "stdout",
     "output_type": "stream",
     "text": [
      "0.008937530155114611\n",
      "0.01680021055586547\n",
      "0.018196762571825554\n"
     ]
    }
   ],
   "source": [
    "result=get_tracing(\"./omptracing_57.json\")\n",
    "print(parallel_region_ratio(result))\n",
    "print(sync_ratio(result))\n",
    "print(thread_ratio(result))"
   ]
  },
  {
   "cell_type": "code",
   "execution_count": 16,
   "metadata": {},
   "outputs": [],
   "source": [
    "df_counts,df_ratios=get_valgrind(\"./valgrind_sample.txt\")"
   ]
  }
 ],
 "metadata": {
  "kernelspec": {
   "display_name": "base",
   "language": "python",
   "name": "python3"
  },
  "language_info": {
   "codemirror_mode": {
    "name": "ipython",
    "version": 3
   },
   "file_extension": ".py",
   "mimetype": "text/x-python",
   "name": "python",
   "nbconvert_exporter": "python",
   "pygments_lexer": "ipython3",
   "version": "3.9.12"
  },
  "orig_nbformat": 4
 },
 "nbformat": 4,
 "nbformat_minor": 2
}
