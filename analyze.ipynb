{
 "cells": [
  {
   "cell_type": "code",
   "execution_count": 9,
   "metadata": {},
   "outputs": [],
   "source": [
    "import json\n",
    "import numpy as np\n",
    "import pandas as pd\n",
    "import regex\n",
    "import os"
   ]
  },
  {
   "cell_type": "code",
   "execution_count": 2,
   "metadata": {},
   "outputs": [],
   "source": [
    "def get_tracing(path):\n",
    "    with open(path, 'r') as f:\n",
    "        json_data = json.load(f)\n",
    "    columns=[\"Thread\",\"Time\",\"Event\"]\n",
    "    result_df=pd.DataFrame(columns=columns)\n",
    "    def _get_df_row(term):\n",
    "        df_row={}\n",
    "        if term[\"name\"] == \"Initialize\" and term[\"pid\"] == \"All\":\n",
    "            df_row[\"Thread\"]= term[\"pid\"]\n",
    "            df_row[\"Time\"]= term[\"ts\"]\n",
    "            df_row[\"Event\"]= \"Start\"\n",
    "        elif term[\"name\"] == \"Finalize\" and term[\"pid\"] == \"All\":\n",
    "            df_row[\"Thread\"]= term[\"pid\"]\n",
    "            df_row[\"Time\"]= term[\"ts\"]\n",
    "            df_row[\"Event\"]= \"End\"\n",
    "        elif term[\"tid\"] == \"Parallel Region\" and term[\"pid\"] == \"All\":\n",
    "            df_row[\"Thread\"]= term[\"pid\"]\n",
    "            df_row[\"Time\"]= term[\"ts\"]\n",
    "            df_row[\"Event\"]= term[\"tid\"]\n",
    "        else:\n",
    "            thread_id = int(term[\"pid\"].split(\" \")[1])\n",
    "            df_row[\"Thread\"]= thread_id\n",
    "            df_row[\"Time\"]= term[\"ts\"]\n",
    "            df_row[\"Event\"]= term[\"tid\"]\n",
    "        return df_row\n",
    "    for term,i in zip(json_data,range(len(json_data))):\n",
    "        result_df.loc[i]=_get_df_row(term)\n",
    "    return result_df"
   ]
  },
  {
   "cell_type": "code",
   "execution_count": 3,
   "metadata": {},
   "outputs": [],
   "source": [
    "def thread_ratio(df):\n",
    "    df=df[df[\"Event\"]==\"Thread Region\"]\n",
    "    df = df.sort_values(by=[\"Thread\",\"Time\"])\n",
    "    df = df.reset_index(drop=True)\n",
    "    num_threads=np.sort(np.int64(df[\"Thread\"].unique()))\n",
    "    def _thread_time(df,i):\n",
    "        tmp_df=df[df[\"Thread\"]==i]\n",
    "        tmp_df.reset_index(drop=True)\n",
    "        tmp_time=0\n",
    "        assert len(tmp_df)%2==0\n",
    "        for j in range(0,len(tmp_df),2):\n",
    "            tmp_time+=tmp_df.iloc[j+1][\"Time\"]-tmp_df.iloc[j][\"Time\"]\n",
    "        return tmp_time\n",
    "    seq_time=_thread_time(df,0)\n",
    "    worker_time=[]\n",
    "    for i in num_threads[1:]:\n",
    "        worker_time.append(_thread_time(df,i))\n",
    "    return max(worker_time)/seq_time"
   ]
  },
  {
   "cell_type": "code",
   "execution_count": 4,
   "metadata": {},
   "outputs": [],
   "source": [
    "def sync_ratio(df):\n",
    "    run_time=df[df[\"Event\"]==\"End\"][\"Time\"].values[0]-df[df[\"Event\"]==\"Start\"][\"Time\"].values[0]\n",
    "    df=df[df[\"Event\"]==\"Sync Region\"]\n",
    "    df = df.sort_values(by=[\"Thread\",\"Time\"])\n",
    "    df = df.reset_index(drop=True)\n",
    "    num_threads=np.sort(np.int64(df[\"Thread\"].unique()))\n",
    "    def _thread_time(df,i):\n",
    "        tmp_df=df[df[\"Thread\"]==i]\n",
    "        tmp_df.reset_index(drop=True)\n",
    "        tmp_time=0\n",
    "        assert len(tmp_df)%2==0\n",
    "        for j in range(0,len(tmp_df),2):\n",
    "            tmp_time+=tmp_df.iloc[j+1][\"Time\"]-tmp_df.iloc[j][\"Time\"]\n",
    "        return tmp_time\n",
    "    sync_time=[]\n",
    "    for i in num_threads:\n",
    "        sync_time.append(_thread_time(df,i))\n",
    "    return max(sync_time)/run_time"
   ]
  },
  {
   "cell_type": "code",
   "execution_count": 5,
   "metadata": {},
   "outputs": [],
   "source": [
    "def parallel_region_ratio(df):\n",
    "    run_time=df[df[\"Event\"]==\"End\"][\"Time\"].values[0]-df[df[\"Event\"]==\"Start\"][\"Time\"].values[0]\n",
    "    tmp_df=df[(df[\"Thread\"]==\"All\") & (df[\"Event\"]==\"Parallel Region\")]\n",
    "    tmp_df=tmp_df.sort_values(by=[\"Time\"])\n",
    "    assert(tmp_df.shape[0]%2==0)\n",
    "    parallel_time=0\n",
    "    for i in range(0,tmp_df.shape[0],2):\n",
    "        start_time=tmp_df.iloc[i][\"Time\"]\n",
    "        end_time=tmp_df.iloc[i+1][\"Time\"]\n",
    "        parallel_time+=end_time-start_time\n",
    "    return parallel_time/run_time"
   ]
  },
  {
   "cell_type": "code",
   "execution_count": 6,
   "metadata": {},
   "outputs": [],
   "source": [
    "def get_valgrind(path):\n",
    "    # path=\"/home/yiwei/Bottleneck-Predictions-of-Parallel-Programs/valgrind_sample.txt\"\n",
    "    logfile=open(path,\"r\")\n",
    "    line_list=logfile.readlines()\n",
    "    line_len=len(line_list)\n",
    "    columns=[\"Ir\",\"I1mr\",\"ILmr\",\"Dr\",\"D1mr\",\"DLmr\",\"Dw\",\"D1mw\",\"DLmw\",\"Function\"]\n",
    "    df_counts=pd.DataFrame(columns=columns,dtype='object')\n",
    "    df_ratios=pd.DataFrame(columns=columns,dtype='object')\n",
    "    # The stats of all data\n",
    "    head_index=0\n",
    "    for line_index in range(line_len):\n",
    "        m=regex.match(r\"Ir                 I1mr           ILmr           Dr               D1mr           DLmr           Dw               D1mw           DLmw\",line_list[line_index])\n",
    "        if m!=None:\n",
    "            head_index=line_index\n",
    "            break\n",
    "    assert head_index!=0\n",
    "    \n",
    "    def _read_valgrind_line(line):\n",
    "        tmp_list=regex.split(r\"\\(|\\)| \",line)\n",
    "        tmp_list = list(filter(None, tmp_list))\n",
    "        if len(tmp_list)<10:\n",
    "            return None,None,None\n",
    "        counts=[]\n",
    "        ratios=[]\n",
    "        k=0\n",
    "        for i in range(9):\n",
    "            counts.append(int(tmp_list[k].replace(\",\",\"\")))\n",
    "            k=k+1\n",
    "            tmp_ratio=tmp_list[k]\n",
    "            if tmp_ratio[-1]==\"%\":\n",
    "                ratios.append(float(tmp_ratio[:-1])/100)\n",
    "                k=k+1\n",
    "            else:\n",
    "                ratios.append(0.0)\n",
    "        if len(counts)==0:\n",
    "            return None,None,None\n",
    "        func=tmp_list[-1].replace(\"\\n\",\"\")\n",
    "        if len(func)>0 and func[0]==\".\":\n",
    "            func=None\n",
    "        return counts,ratios,func\n",
    "    \n",
    "    counts,ratios,func=_read_valgrind_line(line_list[head_index+2])\n",
    "    df_counts.loc[0]=pd.Series(counts,index=columns[:-1],dtype='object')\n",
    "    df_counts.loc[0][\"Function\"]=func\n",
    "    df_ratios.loc[0]=pd.Series(ratios,index=columns[:-1],dtype='object')\n",
    "    df_ratios.loc[0][\"Function\"]=func\n",
    "\n",
    "    # The stats of functions\n",
    "    begin_index=head_index+2\n",
    "    for line_index in range(head_index+2,line_len):\n",
    "        m=regex.match(r\"Ir                 I1mr         ILmr         Dr               D1mr         DLmr         Dw              D1mw           DLmw          file:function\",line_list[line_index])\n",
    "        if m!=None:\n",
    "            begin_index=line_index\n",
    "            break\n",
    "    assert begin_index!=0\n",
    "\n",
    "\n",
    "    for line_index in range(begin_index+3,line_len):\n",
    "    # for line_index in [23]:\n",
    "        counts,ratios,func=_read_valgrind_line(line_list[line_index])\n",
    "        if counts==None:\n",
    "            end_index=line_index\n",
    "            break\n",
    "        else:\n",
    "            k=len(df_counts)\n",
    "            df_counts.loc[k]=pd.Series(counts,index=columns[:-1],dtype='object')\n",
    "            df_counts.loc[k][\"Function\"]=func\n",
    "            df_ratios.loc[k]=pd.Series(ratios,index=columns[:-1],dtype='object')\n",
    "            df_ratios.loc[k][\"Function\"]=func\n",
    "    return df_counts,df_ratios\n"
   ]
  },
  {
   "cell_type": "code",
   "execution_count": 7,
   "metadata": {},
   "outputs": [],
   "source": [
    "test_case = \"./test_imbalance/\""
   ]
  },
  {
   "cell_type": "code",
   "execution_count": 32,
   "metadata": {},
   "outputs": [],
   "source": [
    "def get_ratio_sync_paral(test_case):\n",
    "    \"\"\" input test_case: the path of the test case\"\"\"\n",
    "    jsonfiles = [file for file in os.listdir(test_case) if file.endswith(\".json\")]\n",
    "    ratios = []\n",
    "    for jsonfile in jsonfiles:\n",
    "        print(jsonfile)\n",
    "        result = get_tracing(os.path.join(test_case, jsonfile))\n",
    "        parallel_ratio = parallel_region_ratio(result)\n",
    "        s_ratio = sync_ratio(result)\n",
    "        print(\"parllel region ratio:\", parallel_ratio)\n",
    "        print(\"sync region ratio   :\", s_ratio)\n",
    "        print(\"thread ratio        :\", thread_ratio(result))\n",
    "        print(\"sync / parallel:\", s_ratio/parallel_ratio)\n",
    "        ratios.append(s_ratio/parallel_ratio)\n",
    "    print(ratios)\n",
    "    avg_ratio = np.array(ratios).mean()\n",
    "    return avg_ratio"
   ]
  },
  {
   "cell_type": "code",
   "execution_count": 35,
   "metadata": {},
   "outputs": [
    {
     "name": "stdout",
     "output_type": "stream",
     "text": [
      "omptracing_147.json\n",
      "parllel region ratio: 0.44479910939190803\n",
      "sync region ratio   : 0.0034541916037212407\n",
      "thread ratio        : 0.45652589236029445\n",
      "sync / parallel: 0.007765734082614332\n",
      "omptracing_97.json\n",
      "parllel region ratio: 0.5219847713109479\n",
      "sync region ratio   : 0.022549639654060732\n",
      "thread ratio        : 0.5340218810297274\n",
      "sync / parallel: 0.043199803698157783\n",
      "omptracing_151.json\n",
      "parllel region ratio: 0.6310188415220102\n",
      "sync region ratio   : 0.10792539708880057\n",
      "thread ratio        : 0.6503121985459445\n",
      "sync / parallel: 0.17103355714147261\n",
      "omptracing_155.json\n",
      "parllel region ratio: 0.6898995564531083\n",
      "sync region ratio   : 0.0026827519210215135\n",
      "thread ratio        : 0.7108636096718542\n",
      "sync / parallel: 0.003888612329038158\n",
      "omptracing_159.json\n",
      "parllel region ratio: 0.667457360862941\n",
      "sync region ratio   : 0.01640387626007101\n",
      "thread ratio        : 0.6881097784553781\n",
      "sync / parallel: 0.024576665450003875\n",
      "[0.007765734082614332, 0.043199803698157783, 0.17103355714147261, 0.003888612329038158, 0.024576665450003875]\n"
     ]
    },
    {
     "data": {
      "text/plain": [
       "0.05009287454025736"
      ]
     },
     "execution_count": 35,
     "metadata": {},
     "output_type": "execute_result"
    }
   ],
   "source": [
    "get_ratio_sync_paral(test_case=\"./test_imbalance/\")"
   ]
  },
  {
   "cell_type": "code",
   "execution_count": 34,
   "metadata": {},
   "outputs": [
    {
     "name": "stdout",
     "output_type": "stream",
     "text": [
      "omptracing_125.json\n",
      "parllel region ratio: 0.7889482204560708\n",
      "sync region ratio   : 0.004988363057764883\n",
      "thread ratio        : 0.7982103495467909\n",
      "sync / parallel: 0.006322801583710067\n",
      "omptracing_136.json\n",
      "parllel region ratio: 0.8171424084991362\n",
      "sync region ratio   : 0.00298072438989545\n",
      "thread ratio        : 0.8265447992279191\n",
      "sync / parallel: 0.0036477416407382566\n",
      "omptracing_121.json\n",
      "parllel region ratio: 0.8520059472159062\n",
      "sync region ratio   : 0.024390380745948306\n",
      "thread ratio        : 0.8624190668244205\n",
      "sync / parallel: 0.028627007623184535\n",
      "omptracing_129.json\n",
      "parllel region ratio: 0.8658235831533347\n",
      "sync region ratio   : 0.004193063430119286\n",
      "thread ratio        : 0.8756935785523845\n",
      "sync / parallel: 0.004842861192170493\n",
      "omptracing_140.json\n",
      "parllel region ratio: 0.8337759411953456\n",
      "sync region ratio   : 0.00112430238875817\n",
      "thread ratio        : 0.8426346488390005\n",
      "sync / parallel: 0.001348446666794331\n",
      "[0.006322801583710067, 0.0036477416407382566, 0.028627007623184535, 0.004842861192170493, 0.001348446666794331]\n"
     ]
    },
    {
     "data": {
      "text/plain": [
       "0.008957771741319537"
      ]
     },
     "execution_count": 34,
     "metadata": {},
     "output_type": "execute_result"
    }
   ],
   "source": [
    "get_ratio_sync_paral(test_case=\"./test_balance/\")"
   ]
  },
  {
   "cell_type": "code",
   "execution_count": 36,
   "metadata": {},
   "outputs": [
    {
     "name": "stdout",
     "output_type": "stream",
     "text": [
      "omptracing_113.json\n",
      "parllel region ratio: 0.529235967166539\n",
      "sync region ratio   : 0.0021362920162150724\n",
      "thread ratio        : 0.5375300130258963\n",
      "sync / parallel: 0.004036558640661753\n",
      "omptracing_179.json\n",
      "parllel region ratio: 0.6543534468322802\n",
      "sync region ratio   : 0.0018239174672241574\n",
      "thread ratio        : 0.6709312976076991\n",
      "sync / parallel: 0.002787358232853708\n",
      "omptracing_167.json\n",
      "parllel region ratio: 0.6724316127669901\n",
      "sync region ratio   : 0.0020123376035371576\n",
      "thread ratio        : 0.6889664959159766\n",
      "sync / parallel: 0.002992627897514493\n",
      "omptracing_175.json\n",
      "parllel region ratio: 0.6039757936847141\n",
      "sync region ratio   : 0.0026091278155786213\n",
      "thread ratio        : 0.6210874698971894\n",
      "sync / parallel: 0.00431992116713974\n",
      "omptracing_171.json\n",
      "parllel region ratio: 0.7143346126007618\n",
      "sync region ratio   : 0.0026551354013587434\n",
      "thread ratio        : 0.7370876194824756\n",
      "sync / parallel: 0.003716935109292661\n",
      "[0.004036558640661753, 0.002787358232853708, 0.002992627897514493, 0.00431992116713974, 0.003716935109292661]\n"
     ]
    },
    {
     "data": {
      "text/plain": [
       "0.003570680209492471"
      ]
     },
     "execution_count": 36,
     "metadata": {},
     "output_type": "execute_result"
    }
   ],
   "source": [
    "get_ratio_sync_paral(test_case=\"./test_imbalance_nowait/\")"
   ]
  },
  {
   "cell_type": "code",
   "execution_count": 37,
   "metadata": {},
   "outputs": [
    {
     "name": "stdout",
     "output_type": "stream",
     "text": [
      "omptracing_192.json\n",
      "parllel region ratio: 0.9940166820763541\n",
      "sync region ratio   : 6.355692606067316e-05\n",
      "thread ratio        : 0.9944414318074257\n",
      "sync / parallel: 6.393949639548515e-05\n",
      "omptracing_196.json\n",
      "parllel region ratio: 0.9939185582987473\n",
      "sync region ratio   : 5.770377971005454e-05\n",
      "thread ratio        : 0.9943724301435545\n",
      "sync / parallel: 5.805684905292835e-05\n",
      "omptracing_188.json\n",
      "parllel region ratio: 0.9943431651539192\n",
      "sync region ratio   : 4.203621605117283e-05\n",
      "thread ratio        : 0.9947438019883947\n",
      "sync / parallel: 4.227536078519315e-05\n",
      "[6.393949639548515e-05, 5.805684905292835e-05, 4.227536078519315e-05]\n"
     ]
    },
    {
     "data": {
      "text/plain": [
       "5.475723541120222e-05"
      ]
     },
     "execution_count": 37,
     "metadata": {},
     "output_type": "execute_result"
    }
   ],
   "source": [
    "get_ratio_sync_paral(test_case=\"./test_balance_dynamic/\") # for showcase thread overhead bottleneck"
   ]
  },
  {
   "cell_type": "code",
   "execution_count": 39,
   "metadata": {},
   "outputs": [
    {
     "name": "stdout",
     "output_type": "stream",
     "text": [
      "omptracing_229.json\n",
      "parllel region ratio: 0.782249484262897\n",
      "sync region ratio   : 0.43853059808543843\n",
      "thread ratio        : 0.9068349123407056\n",
      "sync / parallel: 0.560601965111757\n",
      "omptracing_223.json\n",
      "parllel region ratio: 0.7810664012538985\n",
      "sync region ratio   : 0.4337625543331712\n",
      "thread ratio        : 0.8976714649333097\n",
      "sync / parallel: 0.5553465795440988\n",
      "omptracing_217.json\n",
      "parllel region ratio: 0.7478479511981433\n",
      "sync region ratio   : 0.4759061626232354\n",
      "thread ratio        : 0.9278959705190212\n",
      "sync / parallel: 0.636367542173213\n",
      "[0.560601965111757, 0.5553465795440988, 0.636367542173213]\n"
     ]
    },
    {
     "data": {
      "text/plain": [
       "0.5841053622763562"
      ]
     },
     "execution_count": 39,
     "metadata": {},
     "output_type": "execute_result"
    }
   ],
   "source": [
    "get_ratio_sync_paral(test_case=\"./test_synchronization/\") # omp scan"
   ]
  },
  {
   "cell_type": "code",
   "execution_count": 38,
   "metadata": {},
   "outputs": [],
   "source": [
    "# result=get_tracing(test_case+\"omptracing_57.json\")\n",
    "# print(parallel_region_ratio(result))\n",
    "# print(sync_ratio(result))\n",
    "# print(thread_ratio(result))"
   ]
  },
  {
   "cell_type": "code",
   "execution_count": 16,
   "metadata": {},
   "outputs": [],
   "source": [
    "df_counts,df_ratios=get_valgrind(\"./valgrind_sample.txt\")"
   ]
  }
 ],
 "metadata": {
  "kernelspec": {
   "display_name": "base",
   "language": "python",
   "name": "python3"
  },
  "language_info": {
   "codemirror_mode": {
    "name": "ipython",
    "version": 3
   },
   "file_extension": ".py",
   "mimetype": "text/x-python",
   "name": "python",
   "nbconvert_exporter": "python",
   "pygments_lexer": "ipython3",
   "version": "3.10.9"
  },
  "orig_nbformat": 4
 },
 "nbformat": 4,
 "nbformat_minor": 2
}
